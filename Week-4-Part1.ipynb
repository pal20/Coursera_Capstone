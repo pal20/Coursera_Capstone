{
 "cells": [
  {
   "cell_type": "markdown",
   "metadata": {},
   "source": [
    "## Battle of Neighbourhoods - Week 1"
   ]
  },
  {
   "cell_type": "markdown",
   "metadata": {},
   "source": [
    "## Optimal Choice Analysis of Buying House in Nashua, NH"
   ]
  },
  {
   "cell_type": "markdown",
   "metadata": {},
   "source": [
    "### 1. Introduction\n",
    "#### Description & Discussion of the Background"
   ]
  },
  {
   "cell_type": "markdown",
   "metadata": {},
   "source": [
    "The study of optimal choice analysis of buying house in Nashua, NH is inspired by my friend ‘Emma’ who works with ‘Oracle Corporation’ in Seattle, WA; and is planning to move to ‘Oracle’ office in Nashua, NH. Emma has a daughter who is 5 years old, and when buying a house; proximity of house from office and school with good rating near the house would play a very important role in her decision. \n",
    "\n",
    "Nashua ‘The Gate City’ was twice named the ‘Best Place to Live in America’ in 1987 and again in 1998, and again in year 2017, this city was ranked in top 50 U.S. cities to live. With great neighborhood, extremely low crime rate, excellent schooling, very low-income taxes and being very close to Boston makes Nashua a great city to raise kids, buy properties and even retire.\n",
    "\n",
    "When I talked to Emma, she was excited to move to Nashua, leaving the busy city life and coming to Nashua, and as I have been living in Nashua for last decade; has asked me if I can narrow down the choices and provide her with list of houses that she might be interested in. \n",
    "\n"
   ]
  },
  {
   "cell_type": "code",
   "execution_count": null,
   "metadata": {
    "collapsed": true
   },
   "outputs": [],
   "source": []
  }
 ],
 "metadata": {
  "kernelspec": {
   "display_name": "Python 3",
   "language": "python",
   "name": "python3"
  },
  "language_info": {
   "codemirror_mode": {
    "name": "ipython",
    "version": 3
   },
   "file_extension": ".py",
   "mimetype": "text/x-python",
   "name": "python",
   "nbconvert_exporter": "python",
   "pygments_lexer": "ipython3",
   "version": "3.6.7"
  }
 },
 "nbformat": 4,
 "nbformat_minor": 2
}
